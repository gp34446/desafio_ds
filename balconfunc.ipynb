{
 "cells": [
  {
   "cell_type": "markdown",
   "metadata": {},
   "source": [
    "## Propiedades con Balcon"
   ]
  },
  {
   "cell_type": "code",
   "execution_count": 2,
   "metadata": {},
   "outputs": [],
   "source": [
    "import numpy as np\n",
    "import pandas as pd\n",
    "import re"
   ]
  },
  {
   "cell_type": "code",
   "execution_count": 3,
   "metadata": {},
   "outputs": [],
   "source": [
    "data_location='C:/Users/Juan/Documents/Digital House/Data Science/Desafio/properati.csv'\n",
    "data=pd.read_csv(data_location,sep=',')"
   ]
  },
  {
   "cell_type": "code",
   "execution_count": 4,
   "metadata": {},
   "outputs": [],
   "source": [
    "def balcon(df):\n",
    "    pattern_balcon='balcon|balcón'\n",
    "    balcon_regex=re.compile(pattern_balcon,re.IGNORECASE)\n",
    "    balcon_match = df.description.apply(lambda x: x if x is np.NaN else balcon_regex.search(x))\n",
    "    balcon_match_notnull = balcon_match.notnull()\n",
    "    a_reemplazar_balcon = list(set(df.description.loc[balcon_match_notnull]))\n",
    "    df['balcon'] = df.description.loc[balcon_match_notnull].replace(a_reemplazar_balcon, \"SI\")\n",
    "    reemplazo_nulos_balcon=list(set(data.balcon.loc[df.balcon!='SI']))\n",
    "    df['balcon']= df.balcon.replace(reemplazo_nulos_balcon,'NO')\n",
    "    print('Se han encontrado ',df.balcon.loc[df.balcon=='SI'].count(),' propiedades con balcon')\n",
    "    print('Representa un ',((df.balcon.loc[df.balcon=='SI'].count()/df.shape[0])*100).round(2),' % de las propiedades publicadas')\n",
    "\n",
    "    "
   ]
  },
  {
   "cell_type": "code",
   "execution_count": 5,
   "metadata": {},
   "outputs": [
    {
     "name": "stdout",
     "output_type": "stream",
     "text": [
      "Se han encontrado  43139  propiedades con balcon\n",
      "Representa un  35.59  % de las propiedades publicadas\n"
     ]
    }
   ],
   "source": [
    "balcon(data)"
   ]
  },
  {
   "cell_type": "code",
   "execution_count": null,
   "metadata": {},
   "outputs": [],
   "source": []
  },
  {
   "cell_type": "code",
   "execution_count": null,
   "metadata": {},
   "outputs": [],
   "source": []
  }
 ],
 "metadata": {
  "kernelspec": {
   "display_name": "Python 3",
   "language": "python",
   "name": "python3"
  },
  "language_info": {
   "codemirror_mode": {
    "name": "ipython",
    "version": 3
   },
   "file_extension": ".py",
   "mimetype": "text/x-python",
   "name": "python",
   "nbconvert_exporter": "python",
   "pygments_lexer": "ipython3",
   "version": "3.7.7"
  }
 },
 "nbformat": 4,
 "nbformat_minor": 4
}
