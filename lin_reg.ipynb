{
 "cells": [
  {
   "cell_type": "code",
   "execution_count": 1,
   "metadata": {},
   "outputs": [],
   "source": [
    "\"\"\"LECTURA DE DATAFRAME ,FILTRADO DE COLUMNAS DE INTERES Y CREACION DE DUMMIES\"\"\"\n",
    "import pandas as pd\n",
    "from sklearn import linear_model\n",
    "from sklearn.linear_model import RidgeCV, LassoCV, Ridge, Lasso\n",
    "from sklearn import metrics\n",
    "from sklearn import preprocessing\n",
    "import seaborn as sns\n",
    "import matplotlib.pyplot as plt\n",
    "from sklearn.feature_selection import RFE\n",
    "from sklearn.model_selection import train_test_split\n",
    "import numpy as np\n",
    "import statsmodels.api as sm\n",
    "from sklearn.decomposition import PCA\n",
    "\n",
    "\n",
    "data = pd.read_csv('../desafio_ds/df_clean.csv')\n",
    "cols = ['property_type', 'place_name',  'state_name' ,\\\n",
    " 'surface_total_in_m2', 'price_usd_per_m2', 'floor', 'rooms', 'expenses',\\\n",
    " 'pileta|piscina', 'terraza|solarium', 'cochera|garage', 'patio|jardin', 'laundry|lavadero', \\\n",
    " 'parrilla|churrasquera|asadera', 'amenities']\n",
    "df = data[cols]\n",
    "\n"
   ]
  },
  {
   "cell_type": "code",
   "execution_count": 2,
   "metadata": {},
   "outputs": [
    {
     "name": "stdout",
     "output_type": "stream",
     "text": [
      "FEATURES CON COFICIENTE DE CORRELACION > 0.2: ['floor', 'property_type_apartment', 'place_name_Palermo', 'place_name_Puerto Madero', 'state_name_Capital Federal']\n",
      "TOTAL DE FEATURES CORRELACION > 0.2: 5\n"
     ]
    }
   ],
   "source": [
    "\"\"\"REVISO SI LAS FEATURES TIENEN CORRELACION ALTA CON EL TARGET\"\"\"\n",
    "def corr_filter(df,y= 'price_usd_per_m2', val=0.001):\n",
    "    df_aux = pd.get_dummies(df, drop_first=True)\n",
    "    x = df_aux.drop(y, axis = 1)\n",
    "    lista = []\n",
    "    for i in x.columns:\n",
    "        corr = df_aux[[y,i]].corr()\n",
    "        if corr.iloc[0][i] > abs(val):\n",
    "            lista.append(i)\n",
    "    return lista\n",
    "\n",
    "lista = corr_filter(df,y= 'price_usd_per_m2', val=0.2)\n",
    "print('FEATURES CON COFICIENTE DE CORRELACION > 0.2: {0}'.format(lista))\n",
    "print('TOTAL DE FEATURES CORRELACION > 0.2: {0}'.format(len(lista)))"
   ]
  },
  {
   "cell_type": "code",
   "execution_count": 3,
   "metadata": {},
   "outputs": [],
   "source": [
    "def aplico_ridge(df,state_name):\n",
    "    lista = []\n",
    "    if type(state_name) == str:\n",
    "        lista.append(state_name)\n",
    "    else:\n",
    "        lista = state_name\n",
    "    lm_ridge = linear_model.RidgeCV(alphas=[0.00001, 0.00005, 0.0001, 0.0005, 0.001, 0.005, 0.01,\\\n",
    "                                          0.05, 0.1,0.5,1,5,10,15], normalize=True, cv=5)\n",
    "    df = df[df['state_name'].isin(lista)]\n",
    "    df = pd.get_dummies(df, drop_first=True)\n",
    "    X = df.drop('price_usd_per_m2',axis=1)\n",
    "    y = df['price_usd_per_m2']\n",
    "    X_train, X_test, y_train, y_test = train_test_split(X, y, random_state=100)\n",
    "    lm_ridge.fit(X_train, y_train)\n",
    "    y_predicted = lm_ridge.predict(X_test)\n",
    "\n",
    "    print(\"Best alpha using built-in RidgeCV: %f\" % lm_ridge.alpha_)\n",
    "    print(\"Best score using built-in RidgeCV: %f\" %lm_ridge.score(X,y))\n",
    "    coef = pd.Series(lm_ridge.coef_, index = X.columns)\n",
    "    print(\"Ridge picked \" + str(sum(coef != 0)) + \" variables and eliminated the other \" +  str(sum(coef == 0)) + \" variables\")\n",
    "    train_score=lm_ridge.score(X_train,y_train)\n",
    "    test_score=lm_ridge.score(X_test,y_test)\n",
    "    coeff_used = np.sum(lm_ridge.coef_!=0)\n",
    "    print(\"training score:\", train_score)\n",
    "    print(\"test score: \", test_score)\n",
    "    print(\"number of features used: \", coeff_used)\n",
    "    \n",
    "    imp_coef = coef.sort_values()\n",
    "    #plt.rcParams['figure.figsize'] = (15.0, 20.0)\n",
    "    #imp_coef.plot(kind = \"barh\")\n",
    "    #plt.title(\"Feature importance using Ridge Model\")"
   ]
  },
  {
   "cell_type": "code",
   "execution_count": 4,
   "metadata": {},
   "outputs": [],
   "source": [
    "\"\"\"TEST CON LASSO\"\"\"\n",
    "def aplico_lasso(df,state_name):\n",
    "    lista = []\n",
    "    if type(state_name) == str:\n",
    "        lista.append(state_name)\n",
    "    else:\n",
    "        lista = state_name       \n",
    "    df = df[df['state_name'].isin(lista)]\n",
    "    df = pd.get_dummies(df, drop_first=True)\n",
    "    X = df.drop('price_usd_per_m2',axis=1)\n",
    "    y = df['price_usd_per_m2']\n",
    "    X_train, X_test, y_train, y_test = train_test_split(X, y, random_state=100)\n",
    "    reg = LassoCV(alphas=[0.00005, 0.0001, 0.0005, 0.001, 0.005, 0.01,\\\n",
    "                                            0.05],\\\n",
    "                                            normalize=True, cv=5,max_iter=15000)\n",
    "    reg.fit(X_train, y_train)\n",
    "    print(\"Best alpha using built-in LassoCV: %f\" % reg.alpha_)\n",
    "    print(\"Best score using built-in LassoCV: %f\" %reg.score(X,y))\n",
    "    coef = pd.Series(reg.coef_, index = X.columns)\n",
    "    print(\"Lasso picked \" + str(sum(coef != 0)) + \" variables and eliminated the other \" +  str(sum(coef == 0)) + \" variables\")\n",
    "    train_score=reg.score(X_train,y_train)\n",
    "    test_score=reg.score(X_test,y_test)\n",
    "    coeff_used = np.sum(reg.coef_!=0)\n",
    "    print(\"training score:\", train_score) \n",
    "    print(\"test score: \", test_score)\n",
    "    print(\"number of features used: \", coeff_used)\n",
    "    #imp_coef = coef.sort_values()\n",
    "    #plt.rcParams['figure.figsize'] = (15.0, 20.0)\n",
    "    #imp_coef.plot(kind = \"barh\")\n",
    "    #plt.title(\"Feature importance using Lasso Model\")"
   ]
  },
  {
   "cell_type": "code",
   "execution_count": 5,
   "metadata": {},
   "outputs": [
    {
     "name": "stdout",
     "output_type": "stream",
     "text": [
      "\n",
      "lasso BUENOS AIRES\n",
      "\n",
      "Best alpha using built-in LassoCV: 0.005000\n",
      "Best score using built-in LassoCV: 0.579488\n",
      "Lasso picked 519 variables and eliminated the other 104 variables\n",
      "training score: 0.5799156010176671\n",
      "test score:  0.5781968176718074\n",
      "number of features used:  519\n",
      "\n",
      "lasso CAPITAL\n",
      "\n",
      "Best alpha using built-in LassoCV: 0.050000\n",
      "Best score using built-in LassoCV: 0.488061\n",
      "Lasso picked 58 variables and eliminated the other 17 variables\n",
      "training score: 0.4884956542584552\n",
      "test score:  0.48674103467410057\n",
      "number of features used:  58\n",
      "\n",
      "lasso FULL\n",
      "\n",
      "Best alpha using built-in LassoCV: 0.010000\n",
      "Best score using built-in LassoCV: 0.580760\n",
      "Lasso picked 543 variables and eliminated the other 307 variables\n",
      "training score: 0.5814915062801449\n",
      "test score:  0.5785059337235166\n",
      "number of features used:  543\n"
     ]
    }
   ],
   "source": [
    "print(\"\\nlasso BUENOS AIRES\\n\")\n",
    "aplico_lasso(df,['Capital Federal','Buenos Aires Interior','Bs.As. G.B.A. Zona Sur','Buenos Aires Costa Atlántica','Bs.As. G.B.A. Zona Norte','Bs.As. G.B.A. Zona Oeste'])\n",
    "print(\"\\nlasso CAPITAL\\n\")\n",
    "aplico_lasso(df,'Capital Federal')\n",
    "print(\"\\nlasso FULL\\n\")\n",
    "aplico_lasso(df,df[\"state_name\"].to_list())"
   ]
  },
  {
   "cell_type": "code",
   "execution_count": 6,
   "metadata": {},
   "outputs": [
    {
     "data": {
      "text/plain": [
       "'lasso BUENOS AIRES\\n\\nBest alpha using built-in LassoCV: 0.005000\\nBest score using built-in LassoCV: 0.579488\\nLasso picked 519 variables and eliminated the other 104 variables\\ntraining score: 0.5799156010176671\\ntest score:  0.5781968176718074\\nnumber of features used:  519\\n\\nlasso CAPITAL\\n\\nBest alpha using built-in LassoCV: 0.050000\\nBest score using built-in LassoCV: 0.488061\\nLasso picked 58 variables and eliminated the other 17 variables\\ntraining score: 0.4884956542584552\\ntest score:  0.48674103467410057\\nnumber of features used:  58\\n\\nlasso FULL\\n\\nBest alpha using built-in LassoCV: 0.010000\\nBest score using built-in LassoCV: 0.580760\\nLasso picked 543 variables and eliminated the other 307 variables\\ntraining score: 0.5814915062801449\\ntest score:  0.5785059337235166\\nnumber of features used:  543\\n\\nridge BUENOS AIRES\\n\\nBest alpha using built-in RidgeCV: 0.000010\\nBest score using built-in RidgeCV: 0.578991\\nRidge picked 596 variables and eliminated the other 27 variables\\ntraining score: 0.5804484570938384\\ntest score:  0.574596088622152\\nnumber of features used:  596\\n\\nridge CAPITAL\\n\\nBest alpha using built-in RidgeCV: 1.000000\\nBest score using built-in RidgeCV: 0.399881\\nRidge picked 74 variables and eliminated the other 1 variables\\ntraining score: 0.4016596420414748\\ntest score:  0.3944841625562817\\nnumber of features used:  74\\n\\nridge FULL\\n\\nBest alpha using built-in RidgeCV: 0.050000\\nBest score using built-in RidgeCV: 0.582042\\nRidge picked 801 variables and eliminated the other 49 variables\\ntraining score: 0.5832675534155107\\ntest score:  0.5782676502220105\\nnumber of features used:  801\\n\\n'"
      ]
     },
     "execution_count": 6,
     "metadata": {},
     "output_type": "execute_result"
    }
   ],
   "source": [
    "\"\"\"lasso BUENOS AIRES\n",
    "\n",
    "Best alpha using built-in LassoCV: 0.005000\n",
    "Best score using built-in LassoCV: 0.579488\n",
    "Lasso picked 519 variables and eliminated the other 104 variables\n",
    "training score: 0.5799156010176671\n",
    "test score:  0.5781968176718074\n",
    "number of features used:  519\n",
    "\n",
    "lasso CAPITAL\n",
    "\n",
    "Best alpha using built-in LassoCV: 0.050000\n",
    "Best score using built-in LassoCV: 0.488061\n",
    "Lasso picked 58 variables and eliminated the other 17 variables\n",
    "training score: 0.4884956542584552\n",
    "test score:  0.48674103467410057\n",
    "number of features used:  58\n",
    "\n",
    "lasso FULL\n",
    "\n",
    "Best alpha using built-in LassoCV: 0.010000\n",
    "Best score using built-in LassoCV: 0.580760\n",
    "Lasso picked 543 variables and eliminated the other 307 variables\n",
    "training score: 0.5814915062801449\n",
    "test score:  0.5785059337235166\n",
    "number of features used:  543\n",
    "\n",
    "ridge BUENOS AIRES\n",
    "\n",
    "Best alpha using built-in RidgeCV: 0.000010\n",
    "Best score using built-in RidgeCV: 0.578991\n",
    "Ridge picked 596 variables and eliminated the other 27 variables\n",
    "training score: 0.5804484570938384\n",
    "test score:  0.574596088622152\n",
    "number of features used:  596\n",
    "\n",
    "ridge CAPITAL\n",
    "\n",
    "Best alpha using built-in RidgeCV: 1.000000\n",
    "Best score using built-in RidgeCV: 0.399881\n",
    "Ridge picked 74 variables and eliminated the other 1 variables\n",
    "training score: 0.4016596420414748\n",
    "test score:  0.3944841625562817\n",
    "number of features used:  74\n",
    "\n",
    "ridge FULL\n",
    "\n",
    "Best alpha using built-in RidgeCV: 0.050000\n",
    "Best score using built-in RidgeCV: 0.582042\n",
    "Ridge picked 801 variables and eliminated the other 49 variables\n",
    "training score: 0.5832675534155107\n",
    "test score:  0.5782676502220105\n",
    "number of features used:  801\n",
    "\n",
    "\"\"\""
   ]
  },
  {
   "cell_type": "code",
   "execution_count": null,
   "metadata": {},
   "outputs": [
    {
     "name": "stdout",
     "output_type": "stream",
     "text": [
      "\n",
      "ridge BUENOS AIRES\n",
      "\n"
     ]
    }
   ],
   "source": [
    "print(\"\\nridge BUENOS AIRES\\n\")\n",
    "aplico_ridge(df,['Capital Federal','Buenos Aires Interior','Bs.As. G.B.A. Zona Sur','Buenos Aires Costa Atlántica','Bs.As. G.B.A. Zona Norte','Bs.As. G.B.A. Zona Oeste'])\n",
    "print(\"\\nridge CAPITAL\\n\")\n",
    "aplico_ridge(df,'Capital Federal')\n",
    "print(\"\\nridge FULL\\n\")\n",
    "aplico_ridge(df,df[\"state_name\"].to_list())"
   ]
  },
  {
   "cell_type": "code",
   "execution_count": null,
   "metadata": {},
   "outputs": [],
   "source": []
  }
 ],
 "metadata": {
  "kernelspec": {
   "display_name": "Python 3",
   "language": "python",
   "name": "python3"
  },
  "language_info": {
   "codemirror_mode": {
    "name": "ipython",
    "version": 3
   },
   "file_extension": ".py",
   "mimetype": "text/x-python",
   "name": "python",
   "nbconvert_exporter": "python",
   "pygments_lexer": "ipython3",
   "version": "3.7.6"
  }
 },
 "nbformat": 4,
 "nbformat_minor": 4
}
